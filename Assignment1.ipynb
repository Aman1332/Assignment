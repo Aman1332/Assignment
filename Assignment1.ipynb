{
 "cells": [
  {
   "cell_type": "code",
   "execution_count": 3,
   "id": "49cd30d9-1576-4014-b22a-b345376e138d",
   "metadata": {},
   "outputs": [],
   "source": [
    "Q1 = \"Who developed python programming language\" "
   ]
  },
  {
   "cell_type": "code",
   "execution_count": 4,
   "id": "bf582569-75cf-4e26-aa83-c86044d5cea2",
   "metadata": {},
   "outputs": [],
   "source": [
    "Ans = \"Guido Van Rossum\""
   ]
  },
  {
   "cell_type": "code",
   "execution_count": 11,
   "id": "dda45825-f576-482c-b141-dfd7a0088fe8",
   "metadata": {},
   "outputs": [],
   "source": [
    "Q2 = \"which type of programming does python support\""
   ]
  },
  {
   "cell_type": "code",
   "execution_count": 22,
   "id": "5f4bd76c-2c97-4f7f-a10d-13362a33ed18",
   "metadata": {},
   "outputs": [],
   "source": [
    "Ans = {\"support\":\"object oriented\", \"support\": \"structured\", \"support\" : \"functional programming\"}"
   ]
  },
  {
   "cell_type": "code",
   "execution_count": 24,
   "id": "aa8e12e7-88da-4a49-a881-36a0b7329139",
   "metadata": {},
   "outputs": [],
   "source": [
    "Q3 = \"Is python case sensitive when dealing with identifiers\""
   ]
  },
  {
   "cell_type": "code",
   "execution_count": 26,
   "id": "b5038103-9d5b-4560-ac21-8e6fb64e9f62",
   "metadata": {},
   "outputs": [],
   "source": [
    "Ans = \"The Python language is case-sensitive. Identifiers, keywords, and names of classes must be written in lowercase letters. However, Python allows developers to write in uppercase letters for constants (i.e. variables that have a value assigned to them during program execution), and for built-in functions, and for class and module names, etc.\"\n"
   ]
  },
  {
   "cell_type": "code",
   "execution_count": 27,
   "id": "e9b4d2f2-b5b1-4e40-9224-e17947c4754c",
   "metadata": {},
   "outputs": [],
   "source": [
    "Q4 = \"What is the correct extension of the python file\""
   ]
  },
  {
   "cell_type": "code",
   "execution_count": 28,
   "id": "575e0d4f-d065-41f6-9778-0be7b5d0ee36",
   "metadata": {},
   "outputs": [],
   "source": [
    "Ans = \"The extension for python file are - .py, .pyi\""
   ]
  },
  {
   "cell_type": "code",
   "execution_count": 29,
   "id": "04395c4c-394a-425e-a891-c3609a622cce",
   "metadata": {},
   "outputs": [],
   "source": [
    "Q5 = \"Is pythan code compiled or interpreted\""
   ]
  },
  {
   "cell_type": "code",
   "execution_count": 30,
   "id": "757cf8d9-adbb-42f7-acf8-1928b1e85106",
   "metadata": {},
   "outputs": [],
   "source": [
    "Ans = \"pythan is interpreted language\""
   ]
  },
  {
   "cell_type": "code",
   "execution_count": 31,
   "id": "30f8df9a-96a8-4a39-9821-5448b8ebfaea",
   "metadata": {},
   "outputs": [],
   "source": [
    "Q6 = \"Name a few blocks of code used to define in python language\""
   ]
  },
  {
   "cell_type": "code",
   "execution_count": 32,
   "id": "833655ce-5013-4a68-adc7-4fbbb2b9f598",
   "metadata": {},
   "outputs": [],
   "source": [
    "Ans = \"The following are blocks - a module , a function body , and a class definition\"  "
   ]
  },
  {
   "cell_type": "code",
   "execution_count": 33,
   "id": "8ce8ab99-7a80-4432-8355-c34f13cc1c6d",
   "metadata": {},
   "outputs": [],
   "source": [
    "Q7 = \"State a character used to give single line comments in python\" "
   ]
  },
  {
   "cell_type": "code",
   "execution_count": 34,
   "id": "6f0cbbf2-9a76-4ebe-bf14-87320ec6eb22",
   "metadata": {},
   "outputs": [],
   "source": [
    "Ans = \"single # character\""
   ]
  },
  {
   "cell_type": "code",
   "execution_count": 35,
   "id": "20322926-7e21-4834-b88d-0062a8ee728a",
   "metadata": {},
   "outputs": [],
   "source": [
    "Q8 = \"Mention function which can help us to find the version of python that we are currently working on\""
   ]
  },
  {
   "cell_type": "code",
   "execution_count": 36,
   "id": "7471265a-6b02-4989-b7f4-2ae4d19fa355",
   "metadata": {},
   "outputs": [],
   "source": [
    "Ans = \"sys.version\""
   ]
  },
  {
   "cell_type": "code",
   "execution_count": 37,
   "id": "6ff4baf4-691b-4379-87b4-bb801d116cb0",
   "metadata": {},
   "outputs": [],
   "source": [
    "Q9 = \"python support the creation of anonymous functions at runtime, using a construct called\""
   ]
  },
  {
   "cell_type": "code",
   "execution_count": 38,
   "id": "e8fd5b81-2992-4533-a2e7-2a543a105ff0",
   "metadata": {},
   "outputs": [],
   "source": [
    "Ans = \"lambda\""
   ]
  },
  {
   "cell_type": "code",
   "execution_count": 39,
   "id": "0b8ce287-ed56-4011-9b7c-05c9cecb327d",
   "metadata": {},
   "outputs": [],
   "source": [
    "Q10 = \"What does plp stand for python\""
   ]
  },
  {
   "cell_type": "code",
   "execution_count": 40,
   "id": "df4a91e6-ff72-4e2d-8723-36dff5e90cca",
   "metadata": {},
   "outputs": [],
   "source": [
    "Ans = \"plp install packages\""
   ]
  },
  {
   "cell_type": "code",
   "execution_count": 41,
   "id": "b4d63927-74c9-4682-88e8-e697f8ca2b03",
   "metadata": {},
   "outputs": [],
   "source": [
    "Q11 = \"Mention a few built in functions in python\""
   ]
  },
  {
   "cell_type": "code",
   "execution_count": 42,
   "id": "16cb3dda-6a87-4e84-93a2-4bacfa1eab7e",
   "metadata": {},
   "outputs": [],
   "source": [
    "Ans = \"abs(), all(), any(), ascli(), bin(), bool(), dict(), float(), str(), type(), tuple(), zip(), set(), print(), eval(), list(), int(),\""
   ]
  },
  {
   "cell_type": "code",
   "execution_count": 43,
   "id": "552cd9cb-eee6-44d9-9398-b72e6e8dcb96",
   "metadata": {},
   "outputs": [],
   "source": [
    "Q12 = \"What is the maximum possible length of an identifier in python\""
   ]
  },
  {
   "cell_type": "code",
   "execution_count": 44,
   "id": "6f6c5152-4087-48ac-9168-8f6e47ce8c0d",
   "metadata": {},
   "outputs": [],
   "source": [
    "Ans = \"79 characters\""
   ]
  },
  {
   "cell_type": "code",
   "execution_count": 45,
   "id": "8fb5b9fb-e830-4c4b-a4d5-020a5dab8ff9",
   "metadata": {},
   "outputs": [],
   "source": [
    "Q13 = \"What are the benefits of using python \""
   ]
  },
  {
   "cell_type": "code",
   "execution_count": 49,
   "id": "153bc6fa-cb63-4cc3-84aa-8c55973575e4",
   "metadata": {},
   "outputs": [],
   "source": [
    "Ans = \"Top reasons to learn python - Data science, scientific and mathematical computing, Web development, Finance and Trading, computer graphics, Basic game development, security and penetration testing\"\n"
   ]
  },
  {
   "cell_type": "code",
   "execution_count": 50,
   "id": "d6744654-cdfd-4703-8300-14dfa3828892",
   "metadata": {},
   "outputs": [],
   "source": [
    "Q14 = \"How is memory managed in python\""
   ]
  },
  {
   "cell_type": "code",
   "execution_count": 51,
   "id": "94ca1b73-80ca-4c43-9683-d98ff8328e66",
   "metadata": {},
   "outputs": [],
   "source": [
    "Ans = \"Involves a private heap containing all python objects and data structures\""
   ]
  },
  {
   "cell_type": "code",
   "execution_count": 52,
   "id": "35c2b5e2-179d-4023-8a67-6963985dfa29",
   "metadata": {},
   "outputs": [],
   "source": [
    "Q15 = \"How to install python on windows and path variables\""
   ]
  },
  {
   "cell_type": "code",
   "execution_count": 55,
   "id": "5cb5da93-a8c9-4b54-90fd-905d3ce501f4",
   "metadata": {},
   "outputs": [],
   "source": [
    "Ans = \"The complete path of python.exe can be added by - Right clicking this pc and going to properties, Clicking on the advanced system setting in the menu on the left, Clicking on the environment variables button on the bottom right, In the system variables section selecting the path variables and clicking on edit\""
   ]
  },
  {
   "cell_type": "code",
   "execution_count": 56,
   "id": "a0af3516-6dbc-4025-b972-207228e2bad0",
   "metadata": {},
   "outputs": [],
   "source": [
    "Q16 = \"Is indentation required in python\""
   ]
  },
  {
   "cell_type": "code",
   "execution_count": null,
   "id": "078761bf-8c46-45ed-b654-22709a533ead",
   "metadata": {},
   "outputs": [],
   "source": [
    "Ans = \"The indention in python is very important. python uses indentation to indicate a block of code\""
   ]
  }
 ],
 "metadata": {
  "kernelspec": {
   "display_name": "Python 3 (ipykernel)",
   "language": "python",
   "name": "python3"
  },
  "language_info": {
   "codemirror_mode": {
    "name": "ipython",
    "version": 3
   },
   "file_extension": ".py",
   "mimetype": "text/x-python",
   "name": "python",
   "nbconvert_exporter": "python",
   "pygments_lexer": "ipython3",
   "version": "3.10.8"
  }
 },
 "nbformat": 4,
 "nbformat_minor": 5
}
